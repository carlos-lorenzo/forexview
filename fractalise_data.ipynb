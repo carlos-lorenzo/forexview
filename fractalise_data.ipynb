{
 "cells": [
  {
   "cell_type": "code",
   "execution_count": 51,
   "metadata": {},
   "outputs": [],
   "source": [
    "import pandas as pd\n",
    "import numpy as np\n",
    "from typing import Dict, List"
   ]
  },
  {
   "cell_type": "code",
   "execution_count": 19,
   "metadata": {},
   "outputs": [],
   "source": [
    "df = pd.read_csv(\"Api/Data/EURUSD_1m.csv\", nrows=1000)"
   ]
  },
  {
   "cell_type": "code",
   "execution_count": 15,
   "metadata": {},
   "outputs": [],
   "source": [
    "def interval_to_minutes(interval: str) -> int:\n",
    "    \"\"\"\n",
    "    Convert an interval to the number of minutes\\n\n",
    "\n",
    "    Format: {amount}{time scale} e.g. 15m, 1h, 1D,...\n",
    "    \n",
    "    Args:\n",
    "        interval (str): Inteval of time (15m, 1h, 1D)\n",
    "\n",
    "    Returns:\n",
    "        int: Number of minutes in interval (1h = 60m)\n",
    "    \"\"\"\n",
    "    \n",
    "    scales: Dict[str: int] = {\n",
    "        \"m\": 1,\n",
    "        \"h\": 60,\n",
    "        \"D\": 1440,\n",
    "        \"W\": 10080\n",
    "    }\n",
    "    \n",
    "    \n",
    "    multiplyer = int(interval[:-1])\n",
    "    scale = interval[-1]\n",
    "    \n",
    "    if scale not in scales.keys():\n",
    "        raise KeyError(\"Invalid time scale. Valid scales: m (minutes), h (hours), D (days), M (months)\")\n",
    "    \n",
    "    else:\n",
    "        return multiplyer * scales[scale]\n",
    "    "
   ]
  },
  {
   "cell_type": "code",
   "execution_count": 68,
   "metadata": {},
   "outputs": [],
   "source": [
    "def defractalise_ohlc(df: pd.DataFrame, interval: str):\n",
    "    n_candles = interval_to_minutes(interval=interval)\n",
    "    \n",
    "    ohlc_data: List[Dict] = []\n",
    "    for i in range(1, df.shape[0], n_candles):\n",
    "        \n",
    "        try:\n",
    "            new_candle = df.iloc[i:i+n_candles]\n",
    "        \n",
    "        except IndexError:\n",
    "            break\n",
    "        \n",
    "        ohlc_data.append({\n",
    "            \"Time\": new_candle.iloc[-1][\"Time\"],\n",
    "            \"Open\":  new_candle.iloc[0][\"Open\"],\n",
    "            \"High\":  new_candle[\"High\"].max(),\n",
    "            \"Low\":  new_candle[\"Low\"].min(),\n",
    "            \"Close\": new_candle.iloc[-1][\"Close\"],\n",
    "            \"Volume\": round(new_candle[\"Volume\"].mean(), 2),\n",
    "        })\n",
    "        \n",
    "\n",
    "        \n",
    "    return pd.DataFrame(ohlc_data, columns=df.columns)"
   ]
  }
 ],
 "metadata": {
  "kernelspec": {
   "display_name": "3.11",
   "language": "python",
   "name": "python3"
  },
  "language_info": {
   "codemirror_mode": {
    "name": "ipython",
    "version": 3
   },
   "file_extension": ".py",
   "mimetype": "text/x-python",
   "name": "python",
   "nbconvert_exporter": "python",
   "pygments_lexer": "ipython3",
   "version": "3.11.0"
  },
  "orig_nbformat": 4
 },
 "nbformat": 4,
 "nbformat_minor": 2
}
